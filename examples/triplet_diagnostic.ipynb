{
 "cells": [
  {
   "cell_type": "code",
   "execution_count": 28,
   "id": "a4e6484f-14cd-4b25-8aee-c0eb21b670e1",
   "metadata": {},
   "outputs": [
    {
     "data": {
      "text/plain": [
       "load_histograms_from_hdf5 (generic function with 1 method)"
      ]
     },
     "execution_count": 28,
     "metadata": {},
     "output_type": "execute_result"
    }
   ],
   "source": [
    "using HDF5\n",
    "include(\"../src/triplet_diagnostic.jl\") "
   ]
  },
  {
   "cell_type": "code",
   "execution_count": 29,
   "id": "93fa679a-50fe-4917-bc4b-81e427d67567",
   "metadata": {},
   "outputs": [],
   "source": [
    "filename = \"../data/random_points.h5\"\n",
    "x = read(h5open(filename, \"r\"), \"x\");\n",
    "y = read(h5open(filename, \"r\"), \"y\");\n",
    "z = read(h5open(filename, \"r\"), \"z\");\n",
    "x = Float32.(x);\n",
    "y = Float32.(y);\n",
    "z = Float32.(z);"
   ]
  },
  {
   "cell_type": "code",
   "execution_count": 30,
   "id": "9ff427df-74d9-4785-8669-2f62c052a4e6",
   "metadata": {},
   "outputs": [],
   "source": [
    "bin_edges = collect(0.0:1.0:80.0)\n",
    "n_angle_bins = 2;"
   ]
  },
  {
   "cell_type": "code",
   "execution_count": 31,
   "id": "7e2c76e3-46a7-4f5a-87a0-cc80e3babb38",
   "metadata": {},
   "outputs": [
    {
     "data": {
      "text/plain": [
       "Dict{Tuple{Int64, Int64}, Matrix{Int64}} with 3240 entries:\n",
       "  (65, 69) => [10869 11267; 10994 11305]\n",
       "  (9, 80)  => [284 302; 279 241]\n",
       "  (26, 53) => [1062 1007; 1079 1013]\n",
       "  (30, 68) => [2344 2236; 2219 2255]\n",
       "  (42, 42) => [14604 1837; 1837 15012]\n",
       "  (36, 73) => [3741 3901; 3740 3803]\n",
       "  (48, 61) => [4845 4756; 4768 4773]\n",
       "  (25, 73) => [1904 1928; 1937 1913]\n",
       "  (20, 26) => [150 159; 169 150]\n",
       "  (52, 77) => [8646 8652; 8829 8775]\n",
       "  (8, 63)  => [118 160; 136 145]\n",
       "  (3, 33)  => [2 4; 2 4]\n",
       "  (2, 71)  => [13 9; 8 7]\n",
       "  (10, 32) => [52 48; 58 64]\n",
       "  (15, 19) => [48 46; 40 51]\n",
       "  (6, 31)  => [13 20; 14 16]\n",
       "  (44, 73) => [5717 5843; 5624 5846]\n",
       "  (10, 77) => [290 264; 308 353]\n",
       "  (29, 73) => [2360 2341; 2470 2438]\n",
       "  (1, 47)  => [1 0; 0 0]\n",
       "  (9, 71)  => [244 229; 239 222]\n",
       "  (32, 62) => [2074 2200; 2191 2132]\n",
       "  (21, 34) => [284 280; 269 306]\n",
       "  (50, 57) => [4503 4580; 4342 4425]\n",
       "  (70, 76) => [15430 15538; 15486 15685]\n",
       "  ⋮        => ⋮"
      ]
     },
     "execution_count": 31,
     "metadata": {},
     "output_type": "execute_result"
    }
   ],
   "source": [
    "histograms = triplet_diagnostic(x, y, z, bin_edges, n_angle_bins, periodic=false)"
   ]
  },
  {
   "cell_type": "code",
   "execution_count": 32,
   "id": "2530dba5-2b45-4824-8085-a589f94650eb",
   "metadata": {},
   "outputs": [
    {
     "data": {
      "text/plain": [
       "Dict{Tuple{Int64, Int64}, Matrix{Int64}} with 3240 entries:\n",
       "  (65, 69) => [11710 12257; 11937 12255]\n",
       "  (9, 80)  => [304 316; 295 259]\n",
       "  (26, 53) => [1111 1061; 1134 1068]\n",
       "  (30, 68) => [2477 2376; 2370 2409]\n",
       "  (42, 42) => [15082 1934; 1934 15500]\n",
       "  (36, 73) => [4017 4182; 4038 4086]\n",
       "  (48, 61) => [5166 5115; 5153 5147]\n",
       "  (25, 73) => [2035 2043; 2063 2032]\n",
       "  (20, 26) => [155 163; 172 155]\n",
       "  (52, 77) => [9313 9323; 9480 9472]\n",
       "  (8, 63)  => [123 168; 147 150]\n",
       "  (3, 33)  => [2 4; 2 4]\n",
       "  (2, 71)  => [13 9; 8 8]\n",
       "  (10, 32) => [52 50; 62 67]\n",
       "  (15, 19) => [48 46; 40 51]\n",
       "  (6, 31)  => [13 20; 14 16]\n",
       "  (44, 73) => [6136 6285; 6069 6248]\n",
       "  (10, 77) => [299 286; 331 372]\n",
       "  (29, 73) => [2508 2504; 2647 2607]\n",
       "  (1, 47)  => [1 0; 0 0]\n",
       "  (9, 71)  => [252 240; 259 231]\n",
       "  (32, 62) => [2210 2335; 2312 2273]\n",
       "  (21, 34) => [292 292; 278 312]\n",
       "  (50, 57) => [4782 4906; 4675 4762]\n",
       "  (70, 76) => [16824 16990; 16961 17076]\n",
       "  ⋮        => ⋮"
      ]
     },
     "execution_count": 32,
     "metadata": {},
     "output_type": "execute_result"
    }
   ],
   "source": [
    "histograms = triplet_diagnostic(x, y, z, bin_edges, n_angle_bins, periodic=true, boxsize=2000.0)"
   ]
  },
  {
   "cell_type": "code",
   "execution_count": 33,
   "id": "9c1b0d1d-9333-49c1-8bee-33212a1691e6",
   "metadata": {},
   "outputs": [],
   "source": [
    "out_file = \"../data/triplet_histograms.h5\"\n",
    "save_histograms_to_hdf5(out_file, histograms)"
   ]
  },
  {
   "cell_type": "code",
   "execution_count": 34,
   "id": "aa74652d-6c88-4ed1-a177-2db09345009c",
   "metadata": {},
   "outputs": [
    {
     "data": {
      "text/plain": [
       "Dict{Tuple{Int64, Int64}, Matrix{Int64}} with 3240 entries:\n",
       "  (65, 69) => [11710 12257; 11937 12255]\n",
       "  (9, 80)  => [304 316; 295 259]\n",
       "  (26, 53) => [1111 1061; 1134 1068]\n",
       "  (30, 68) => [2477 2376; 2370 2409]\n",
       "  (42, 42) => [15082 1934; 1934 15500]\n",
       "  (36, 73) => [4017 4182; 4038 4086]\n",
       "  (48, 61) => [5166 5115; 5153 5147]\n",
       "  (25, 73) => [2035 2043; 2063 2032]\n",
       "  (20, 26) => [155 163; 172 155]\n",
       "  (52, 77) => [9313 9323; 9480 9472]\n",
       "  (8, 63)  => [123 168; 147 150]\n",
       "  (3, 33)  => [2 4; 2 4]\n",
       "  (2, 71)  => [13 9; 8 8]\n",
       "  (10, 32) => [52 50; 62 67]\n",
       "  (15, 19) => [48 46; 40 51]\n",
       "  (44, 73) => [6136 6285; 6069 6248]\n",
       "  (6, 31)  => [13 20; 14 16]\n",
       "  (10, 77) => [299 286; 331 372]\n",
       "  (29, 73) => [2508 2504; 2647 2607]\n",
       "  (1, 47)  => [1 0; 0 0]\n",
       "  (9, 71)  => [252 240; 259 231]\n",
       "  (32, 62) => [2210 2335; 2312 2273]\n",
       "  (21, 34) => [292 292; 278 312]\n",
       "  (50, 57) => [4782 4906; 4675 4762]\n",
       "  (70, 76) => [16824 16990; 16961 17076]\n",
       "  ⋮        => ⋮"
      ]
     },
     "execution_count": 34,
     "metadata": {},
     "output_type": "execute_result"
    }
   ],
   "source": [
    "loaded_histograms = load_histograms_from_hdf5(out_file)"
   ]
  },
  {
   "cell_type": "code",
   "execution_count": 36,
   "id": "6997aadc-98e9-4121-b887-ad9a11e66560",
   "metadata": {},
   "outputs": [
    {
     "data": {
      "text/plain": [
       "2×2 Matrix{Int64}:\n",
       " 1720    24\n",
       "   24  1646"
      ]
     },
     "execution_count": 36,
     "metadata": {},
     "output_type": "execute_result"
    }
   ],
   "source": [
    "rpair = (15, 15)\n",
    "loaded_histograms[rpair]"
   ]
  },
  {
   "cell_type": "code",
   "execution_count": null,
   "id": "1eba23ef-ae47-4d46-8930-da6893e1ff16",
   "metadata": {},
   "outputs": [],
   "source": []
  }
 ],
 "metadata": {
  "kernelspec": {
   "display_name": "Julia 1.11.2",
   "language": "julia",
   "name": "julia-1.11"
  },
  "language_info": {
   "file_extension": ".jl",
   "mimetype": "application/julia",
   "name": "julia",
   "version": "1.11.2"
  }
 },
 "nbformat": 4,
 "nbformat_minor": 5
}
